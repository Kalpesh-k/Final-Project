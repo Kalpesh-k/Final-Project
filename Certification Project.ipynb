{
 "cells": [
  {
   "cell_type": "markdown",
   "id": "2319e994",
   "metadata": {},
   "source": [
    "#       \tMOVIE RECOMMENDED SYSTEM"
   ]
  },
  {
   "cell_type": "markdown",
   "id": "1c0ca757",
   "metadata": {},
   "source": [
    "#  Data Description \n",
    "Data Description -:\n",
    "  The  data  consists  of  105339  ratings  applied  over  10329  movies.\n",
    "  The  average  rating  and minimum and maximum rating are0.5 and 5 respectively. \n",
    "  There are 668 users who have given their ratings for 149532 movies.\n",
    "  There are two data files which are provided:\n",
    "      Movies.csv\n",
    "        ●movieId:IDassigned to a movie \n",
    "        ●title:Title of a movie \n",
    "        ●genres:pipe-separated list of movie genres. \n",
    "      Ratings.csv\n",
    "        ●userId:ID assigned to a user \n",
    "        ●movieId:ID assigned to a movie \n",
    "        ●rating:rating by auser to a movie \n",
    "        ●Timestamp:timeatwhichtheratingwasprovided.\n"
   ]
  },
  {
   "cell_type": "code",
   "execution_count": 1,
   "id": "e2f4b77a",
   "metadata": {},
   "outputs": [],
   "source": [
    "import numpy as np \n",
    "import pandas as pd\n",
    "import matplotlib.pyplot as plt\n",
    "import seaborn as sns\n",
    "from sklearn.metrics.pairwise import cosine_similarity\n",
    "from sklearn.feature_extraction.text import TfidfVectorizer\n",
    "import tkinter as tk\n",
    "from tkinter import ttk\n",
    "from tkinter import messagebox\n",
    "from sklearn.metrics.pairwise import cosine_similarity\n",
    "import ipywidgets as widgets\n",
    "\n"
   ]
  },
  {
   "cell_type": "code",
   "execution_count": 2,
   "id": "275dabaa",
   "metadata": {},
   "outputs": [],
   "source": [
    "#loading Dataset of ratings \n",
    "ratings = pd.read_csv(\"C:/Users/Kalpesh__K__/Datasets/ratings.csv\")"
   ]
  },
  {
   "cell_type": "code",
   "execution_count": 3,
   "id": "f43547e6",
   "metadata": {},
   "outputs": [
    {
     "data": {
      "text/html": [
       "<div>\n",
       "<style scoped>\n",
       "    .dataframe tbody tr th:only-of-type {\n",
       "        vertical-align: middle;\n",
       "    }\n",
       "\n",
       "    .dataframe tbody tr th {\n",
       "        vertical-align: top;\n",
       "    }\n",
       "\n",
       "    .dataframe thead th {\n",
       "        text-align: right;\n",
       "    }\n",
       "</style>\n",
       "<table border=\"1\" class=\"dataframe\">\n",
       "  <thead>\n",
       "    <tr style=\"text-align: right;\">\n",
       "      <th></th>\n",
       "      <th>userId</th>\n",
       "      <th>movieId</th>\n",
       "      <th>rating</th>\n",
       "      <th>timestamp</th>\n",
       "    </tr>\n",
       "  </thead>\n",
       "  <tbody>\n",
       "    <tr>\n",
       "      <th>0</th>\n",
       "      <td>1</td>\n",
       "      <td>16</td>\n",
       "      <td>4.0</td>\n",
       "      <td>1217897793</td>\n",
       "    </tr>\n",
       "    <tr>\n",
       "      <th>1</th>\n",
       "      <td>1</td>\n",
       "      <td>24</td>\n",
       "      <td>1.5</td>\n",
       "      <td>1217895807</td>\n",
       "    </tr>\n",
       "    <tr>\n",
       "      <th>2</th>\n",
       "      <td>1</td>\n",
       "      <td>32</td>\n",
       "      <td>4.0</td>\n",
       "      <td>1217896246</td>\n",
       "    </tr>\n",
       "    <tr>\n",
       "      <th>3</th>\n",
       "      <td>1</td>\n",
       "      <td>47</td>\n",
       "      <td>4.0</td>\n",
       "      <td>1217896556</td>\n",
       "    </tr>\n",
       "    <tr>\n",
       "      <th>4</th>\n",
       "      <td>1</td>\n",
       "      <td>50</td>\n",
       "      <td>4.0</td>\n",
       "      <td>1217896523</td>\n",
       "    </tr>\n",
       "    <tr>\n",
       "      <th>5</th>\n",
       "      <td>1</td>\n",
       "      <td>110</td>\n",
       "      <td>4.0</td>\n",
       "      <td>1217896150</td>\n",
       "    </tr>\n",
       "    <tr>\n",
       "      <th>6</th>\n",
       "      <td>1</td>\n",
       "      <td>150</td>\n",
       "      <td>3.0</td>\n",
       "      <td>1217895940</td>\n",
       "    </tr>\n",
       "    <tr>\n",
       "      <th>7</th>\n",
       "      <td>1</td>\n",
       "      <td>161</td>\n",
       "      <td>4.0</td>\n",
       "      <td>1217897864</td>\n",
       "    </tr>\n",
       "    <tr>\n",
       "      <th>8</th>\n",
       "      <td>1</td>\n",
       "      <td>165</td>\n",
       "      <td>3.0</td>\n",
       "      <td>1217897135</td>\n",
       "    </tr>\n",
       "    <tr>\n",
       "      <th>9</th>\n",
       "      <td>1</td>\n",
       "      <td>204</td>\n",
       "      <td>0.5</td>\n",
       "      <td>1217895786</td>\n",
       "    </tr>\n",
       "    <tr>\n",
       "      <th>10</th>\n",
       "      <td>1</td>\n",
       "      <td>223</td>\n",
       "      <td>4.0</td>\n",
       "      <td>1217897795</td>\n",
       "    </tr>\n",
       "    <tr>\n",
       "      <th>11</th>\n",
       "      <td>1</td>\n",
       "      <td>256</td>\n",
       "      <td>0.5</td>\n",
       "      <td>1217895764</td>\n",
       "    </tr>\n",
       "    <tr>\n",
       "      <th>12</th>\n",
       "      <td>1</td>\n",
       "      <td>260</td>\n",
       "      <td>4.5</td>\n",
       "      <td>1217895864</td>\n",
       "    </tr>\n",
       "    <tr>\n",
       "      <th>13</th>\n",
       "      <td>1</td>\n",
       "      <td>261</td>\n",
       "      <td>1.5</td>\n",
       "      <td>1217895750</td>\n",
       "    </tr>\n",
       "    <tr>\n",
       "      <th>14</th>\n",
       "      <td>1</td>\n",
       "      <td>277</td>\n",
       "      <td>0.5</td>\n",
       "      <td>1217895772</td>\n",
       "    </tr>\n",
       "    <tr>\n",
       "      <th>15</th>\n",
       "      <td>1</td>\n",
       "      <td>296</td>\n",
       "      <td>4.0</td>\n",
       "      <td>1217896125</td>\n",
       "    </tr>\n",
       "    <tr>\n",
       "      <th>16</th>\n",
       "      <td>1</td>\n",
       "      <td>318</td>\n",
       "      <td>4.0</td>\n",
       "      <td>1217895860</td>\n",
       "    </tr>\n",
       "    <tr>\n",
       "      <th>17</th>\n",
       "      <td>1</td>\n",
       "      <td>349</td>\n",
       "      <td>4.5</td>\n",
       "      <td>1217897058</td>\n",
       "    </tr>\n",
       "    <tr>\n",
       "      <th>18</th>\n",
       "      <td>1</td>\n",
       "      <td>356</td>\n",
       "      <td>3.0</td>\n",
       "      <td>1217896231</td>\n",
       "    </tr>\n",
       "    <tr>\n",
       "      <th>19</th>\n",
       "      <td>1</td>\n",
       "      <td>377</td>\n",
       "      <td>2.5</td>\n",
       "      <td>1217896373</td>\n",
       "    </tr>\n",
       "  </tbody>\n",
       "</table>\n",
       "</div>"
      ],
      "text/plain": [
       "    userId  movieId  rating   timestamp\n",
       "0        1       16     4.0  1217897793\n",
       "1        1       24     1.5  1217895807\n",
       "2        1       32     4.0  1217896246\n",
       "3        1       47     4.0  1217896556\n",
       "4        1       50     4.0  1217896523\n",
       "5        1      110     4.0  1217896150\n",
       "6        1      150     3.0  1217895940\n",
       "7        1      161     4.0  1217897864\n",
       "8        1      165     3.0  1217897135\n",
       "9        1      204     0.5  1217895786\n",
       "10       1      223     4.0  1217897795\n",
       "11       1      256     0.5  1217895764\n",
       "12       1      260     4.5  1217895864\n",
       "13       1      261     1.5  1217895750\n",
       "14       1      277     0.5  1217895772\n",
       "15       1      296     4.0  1217896125\n",
       "16       1      318     4.0  1217895860\n",
       "17       1      349     4.5  1217897058\n",
       "18       1      356     3.0  1217896231\n",
       "19       1      377     2.5  1217896373"
      ]
     },
     "execution_count": 3,
     "metadata": {},
     "output_type": "execute_result"
    }
   ],
   "source": [
    "ratings.head(20)"
   ]
  },
  {
   "cell_type": "code",
   "execution_count": 4,
   "id": "820e4d63",
   "metadata": {},
   "outputs": [
    {
     "data": {
      "text/plain": [
       "(105339, 4)"
      ]
     },
     "execution_count": 4,
     "metadata": {},
     "output_type": "execute_result"
    }
   ],
   "source": [
    "ratings.shape"
   ]
  },
  {
   "cell_type": "code",
   "execution_count": 5,
   "id": "9d64f2ac",
   "metadata": {},
   "outputs": [
    {
     "data": {
      "text/html": [
       "<div>\n",
       "<style scoped>\n",
       "    .dataframe tbody tr th:only-of-type {\n",
       "        vertical-align: middle;\n",
       "    }\n",
       "\n",
       "    .dataframe tbody tr th {\n",
       "        vertical-align: top;\n",
       "    }\n",
       "\n",
       "    .dataframe thead th {\n",
       "        text-align: right;\n",
       "    }\n",
       "</style>\n",
       "<table border=\"1\" class=\"dataframe\">\n",
       "  <thead>\n",
       "    <tr style=\"text-align: right;\">\n",
       "      <th></th>\n",
       "      <th>userId</th>\n",
       "      <th>movieId</th>\n",
       "      <th>rating</th>\n",
       "      <th>timestamp</th>\n",
       "    </tr>\n",
       "  </thead>\n",
       "  <tbody>\n",
       "    <tr>\n",
       "      <th>count</th>\n",
       "      <td>105339.000000</td>\n",
       "      <td>105339.000000</td>\n",
       "      <td>105339.000000</td>\n",
       "      <td>1.053390e+05</td>\n",
       "    </tr>\n",
       "    <tr>\n",
       "      <th>mean</th>\n",
       "      <td>364.924539</td>\n",
       "      <td>13381.312477</td>\n",
       "      <td>3.516850</td>\n",
       "      <td>1.130424e+09</td>\n",
       "    </tr>\n",
       "    <tr>\n",
       "      <th>std</th>\n",
       "      <td>197.486905</td>\n",
       "      <td>26170.456869</td>\n",
       "      <td>1.044872</td>\n",
       "      <td>1.802660e+08</td>\n",
       "    </tr>\n",
       "    <tr>\n",
       "      <th>min</th>\n",
       "      <td>1.000000</td>\n",
       "      <td>1.000000</td>\n",
       "      <td>0.500000</td>\n",
       "      <td>8.285650e+08</td>\n",
       "    </tr>\n",
       "    <tr>\n",
       "      <th>25%</th>\n",
       "      <td>192.000000</td>\n",
       "      <td>1073.000000</td>\n",
       "      <td>3.000000</td>\n",
       "      <td>9.711008e+08</td>\n",
       "    </tr>\n",
       "    <tr>\n",
       "      <th>50%</th>\n",
       "      <td>383.000000</td>\n",
       "      <td>2497.000000</td>\n",
       "      <td>3.500000</td>\n",
       "      <td>1.115154e+09</td>\n",
       "    </tr>\n",
       "    <tr>\n",
       "      <th>75%</th>\n",
       "      <td>557.000000</td>\n",
       "      <td>5991.000000</td>\n",
       "      <td>4.000000</td>\n",
       "      <td>1.275496e+09</td>\n",
       "    </tr>\n",
       "    <tr>\n",
       "      <th>max</th>\n",
       "      <td>668.000000</td>\n",
       "      <td>149532.000000</td>\n",
       "      <td>5.000000</td>\n",
       "      <td>1.452405e+09</td>\n",
       "    </tr>\n",
       "  </tbody>\n",
       "</table>\n",
       "</div>"
      ],
      "text/plain": [
       "              userId        movieId         rating     timestamp\n",
       "count  105339.000000  105339.000000  105339.000000  1.053390e+05\n",
       "mean      364.924539   13381.312477       3.516850  1.130424e+09\n",
       "std       197.486905   26170.456869       1.044872  1.802660e+08\n",
       "min         1.000000       1.000000       0.500000  8.285650e+08\n",
       "25%       192.000000    1073.000000       3.000000  9.711008e+08\n",
       "50%       383.000000    2497.000000       3.500000  1.115154e+09\n",
       "75%       557.000000    5991.000000       4.000000  1.275496e+09\n",
       "max       668.000000  149532.000000       5.000000  1.452405e+09"
      ]
     },
     "execution_count": 5,
     "metadata": {},
     "output_type": "execute_result"
    }
   ],
   "source": [
    "ratings.describe()"
   ]
  },
  {
   "cell_type": "code",
   "execution_count": 6,
   "id": "24b61168",
   "metadata": {},
   "outputs": [],
   "source": [
    "# Loafing Dataset of Movie\n",
    "movies = pd.read_csv(\"C:/Users/Kalpesh__K__/Datasets/movies.csv\")\n"
   ]
  },
  {
   "cell_type": "code",
   "execution_count": 7,
   "id": "3d51193c",
   "metadata": {},
   "outputs": [
    {
     "data": {
      "text/html": [
       "<div>\n",
       "<style scoped>\n",
       "    .dataframe tbody tr th:only-of-type {\n",
       "        vertical-align: middle;\n",
       "    }\n",
       "\n",
       "    .dataframe tbody tr th {\n",
       "        vertical-align: top;\n",
       "    }\n",
       "\n",
       "    .dataframe thead th {\n",
       "        text-align: right;\n",
       "    }\n",
       "</style>\n",
       "<table border=\"1\" class=\"dataframe\">\n",
       "  <thead>\n",
       "    <tr style=\"text-align: right;\">\n",
       "      <th></th>\n",
       "      <th>movieId</th>\n",
       "      <th>title</th>\n",
       "      <th>genres</th>\n",
       "    </tr>\n",
       "  </thead>\n",
       "  <tbody>\n",
       "    <tr>\n",
       "      <th>0</th>\n",
       "      <td>1</td>\n",
       "      <td>Toy Story (1995)</td>\n",
       "      <td>Adventure|Animation|Children|Comedy|Fantasy</td>\n",
       "    </tr>\n",
       "    <tr>\n",
       "      <th>1</th>\n",
       "      <td>2</td>\n",
       "      <td>Jumanji (1995)</td>\n",
       "      <td>Adventure|Children|Fantasy</td>\n",
       "    </tr>\n",
       "    <tr>\n",
       "      <th>2</th>\n",
       "      <td>3</td>\n",
       "      <td>Grumpier Old Men (1995)</td>\n",
       "      <td>Comedy|Romance</td>\n",
       "    </tr>\n",
       "    <tr>\n",
       "      <th>3</th>\n",
       "      <td>4</td>\n",
       "      <td>Waiting to Exhale (1995)</td>\n",
       "      <td>Comedy|Drama|Romance</td>\n",
       "    </tr>\n",
       "    <tr>\n",
       "      <th>4</th>\n",
       "      <td>5</td>\n",
       "      <td>Father of the Bride Part II (1995)</td>\n",
       "      <td>Comedy</td>\n",
       "    </tr>\n",
       "    <tr>\n",
       "      <th>5</th>\n",
       "      <td>6</td>\n",
       "      <td>Heat (1995)</td>\n",
       "      <td>Action|Crime|Thriller</td>\n",
       "    </tr>\n",
       "    <tr>\n",
       "      <th>6</th>\n",
       "      <td>7</td>\n",
       "      <td>Sabrina (1995)</td>\n",
       "      <td>Comedy|Romance</td>\n",
       "    </tr>\n",
       "    <tr>\n",
       "      <th>7</th>\n",
       "      <td>8</td>\n",
       "      <td>Tom and Huck (1995)</td>\n",
       "      <td>Adventure|Children</td>\n",
       "    </tr>\n",
       "    <tr>\n",
       "      <th>8</th>\n",
       "      <td>9</td>\n",
       "      <td>Sudden Death (1995)</td>\n",
       "      <td>Action</td>\n",
       "    </tr>\n",
       "    <tr>\n",
       "      <th>9</th>\n",
       "      <td>10</td>\n",
       "      <td>GoldenEye (1995)</td>\n",
       "      <td>Action|Adventure|Thriller</td>\n",
       "    </tr>\n",
       "    <tr>\n",
       "      <th>10</th>\n",
       "      <td>11</td>\n",
       "      <td>American President, The (1995)</td>\n",
       "      <td>Comedy|Drama|Romance</td>\n",
       "    </tr>\n",
       "    <tr>\n",
       "      <th>11</th>\n",
       "      <td>12</td>\n",
       "      <td>Dracula: Dead and Loving It (1995)</td>\n",
       "      <td>Comedy|Horror</td>\n",
       "    </tr>\n",
       "    <tr>\n",
       "      <th>12</th>\n",
       "      <td>13</td>\n",
       "      <td>Balto (1995)</td>\n",
       "      <td>Adventure|Animation|Children</td>\n",
       "    </tr>\n",
       "    <tr>\n",
       "      <th>13</th>\n",
       "      <td>14</td>\n",
       "      <td>Nixon (1995)</td>\n",
       "      <td>Drama</td>\n",
       "    </tr>\n",
       "    <tr>\n",
       "      <th>14</th>\n",
       "      <td>15</td>\n",
       "      <td>Cutthroat Island (1995)</td>\n",
       "      <td>Action|Adventure|Romance</td>\n",
       "    </tr>\n",
       "    <tr>\n",
       "      <th>15</th>\n",
       "      <td>16</td>\n",
       "      <td>Casino (1995)</td>\n",
       "      <td>Crime|Drama</td>\n",
       "    </tr>\n",
       "    <tr>\n",
       "      <th>16</th>\n",
       "      <td>17</td>\n",
       "      <td>Sense and Sensibility (1995)</td>\n",
       "      <td>Drama|Romance</td>\n",
       "    </tr>\n",
       "    <tr>\n",
       "      <th>17</th>\n",
       "      <td>18</td>\n",
       "      <td>Four Rooms (1995)</td>\n",
       "      <td>Comedy</td>\n",
       "    </tr>\n",
       "    <tr>\n",
       "      <th>18</th>\n",
       "      <td>19</td>\n",
       "      <td>Ace Ventura: When Nature Calls (1995)</td>\n",
       "      <td>Comedy</td>\n",
       "    </tr>\n",
       "    <tr>\n",
       "      <th>19</th>\n",
       "      <td>20</td>\n",
       "      <td>Money Train (1995)</td>\n",
       "      <td>Action|Comedy|Crime|Drama|Thriller</td>\n",
       "    </tr>\n",
       "  </tbody>\n",
       "</table>\n",
       "</div>"
      ],
      "text/plain": [
       "    movieId                                  title  \\\n",
       "0         1                       Toy Story (1995)   \n",
       "1         2                         Jumanji (1995)   \n",
       "2         3                Grumpier Old Men (1995)   \n",
       "3         4               Waiting to Exhale (1995)   \n",
       "4         5     Father of the Bride Part II (1995)   \n",
       "5         6                            Heat (1995)   \n",
       "6         7                         Sabrina (1995)   \n",
       "7         8                    Tom and Huck (1995)   \n",
       "8         9                    Sudden Death (1995)   \n",
       "9        10                       GoldenEye (1995)   \n",
       "10       11         American President, The (1995)   \n",
       "11       12     Dracula: Dead and Loving It (1995)   \n",
       "12       13                           Balto (1995)   \n",
       "13       14                           Nixon (1995)   \n",
       "14       15                Cutthroat Island (1995)   \n",
       "15       16                          Casino (1995)   \n",
       "16       17           Sense and Sensibility (1995)   \n",
       "17       18                      Four Rooms (1995)   \n",
       "18       19  Ace Ventura: When Nature Calls (1995)   \n",
       "19       20                     Money Train (1995)   \n",
       "\n",
       "                                         genres  \n",
       "0   Adventure|Animation|Children|Comedy|Fantasy  \n",
       "1                    Adventure|Children|Fantasy  \n",
       "2                                Comedy|Romance  \n",
       "3                          Comedy|Drama|Romance  \n",
       "4                                        Comedy  \n",
       "5                         Action|Crime|Thriller  \n",
       "6                                Comedy|Romance  \n",
       "7                            Adventure|Children  \n",
       "8                                        Action  \n",
       "9                     Action|Adventure|Thriller  \n",
       "10                         Comedy|Drama|Romance  \n",
       "11                                Comedy|Horror  \n",
       "12                 Adventure|Animation|Children  \n",
       "13                                        Drama  \n",
       "14                     Action|Adventure|Romance  \n",
       "15                                  Crime|Drama  \n",
       "16                                Drama|Romance  \n",
       "17                                       Comedy  \n",
       "18                                       Comedy  \n",
       "19           Action|Comedy|Crime|Drama|Thriller  "
      ]
     },
     "execution_count": 7,
     "metadata": {},
     "output_type": "execute_result"
    }
   ],
   "source": [
    "movies.head(20)"
   ]
  },
  {
   "cell_type": "code",
   "execution_count": 8,
   "id": "2d5a1933",
   "metadata": {},
   "outputs": [
    {
     "data": {
      "text/plain": [
       "(10329, 3)"
      ]
     },
     "execution_count": 8,
     "metadata": {},
     "output_type": "execute_result"
    }
   ],
   "source": [
    "movies.shape"
   ]
  },
  {
   "cell_type": "code",
   "execution_count": 9,
   "id": "857ec62f",
   "metadata": {},
   "outputs": [
    {
     "data": {
      "text/plain": [
       "Index(['movieId', 'title', 'genres'], dtype='object')"
      ]
     },
     "execution_count": 9,
     "metadata": {},
     "output_type": "execute_result"
    }
   ],
   "source": [
    "movies.columns"
   ]
  },
  {
   "cell_type": "code",
   "execution_count": 10,
   "id": "1b3c4718",
   "metadata": {},
   "outputs": [
    {
     "data": {
      "text/html": [
       "<div>\n",
       "<style scoped>\n",
       "    .dataframe tbody tr th:only-of-type {\n",
       "        vertical-align: middle;\n",
       "    }\n",
       "\n",
       "    .dataframe tbody tr th {\n",
       "        vertical-align: top;\n",
       "    }\n",
       "\n",
       "    .dataframe thead th {\n",
       "        text-align: right;\n",
       "    }\n",
       "</style>\n",
       "<table border=\"1\" class=\"dataframe\">\n",
       "  <thead>\n",
       "    <tr style=\"text-align: right;\">\n",
       "      <th></th>\n",
       "      <th>movieId</th>\n",
       "    </tr>\n",
       "  </thead>\n",
       "  <tbody>\n",
       "    <tr>\n",
       "      <th>count</th>\n",
       "      <td>10329.000000</td>\n",
       "    </tr>\n",
       "    <tr>\n",
       "      <th>mean</th>\n",
       "      <td>31924.282893</td>\n",
       "    </tr>\n",
       "    <tr>\n",
       "      <th>std</th>\n",
       "      <td>37734.741149</td>\n",
       "    </tr>\n",
       "    <tr>\n",
       "      <th>min</th>\n",
       "      <td>1.000000</td>\n",
       "    </tr>\n",
       "    <tr>\n",
       "      <th>25%</th>\n",
       "      <td>3240.000000</td>\n",
       "    </tr>\n",
       "    <tr>\n",
       "      <th>50%</th>\n",
       "      <td>7088.000000</td>\n",
       "    </tr>\n",
       "    <tr>\n",
       "      <th>75%</th>\n",
       "      <td>59900.000000</td>\n",
       "    </tr>\n",
       "    <tr>\n",
       "      <th>max</th>\n",
       "      <td>149532.000000</td>\n",
       "    </tr>\n",
       "  </tbody>\n",
       "</table>\n",
       "</div>"
      ],
      "text/plain": [
       "             movieId\n",
       "count   10329.000000\n",
       "mean    31924.282893\n",
       "std     37734.741149\n",
       "min         1.000000\n",
       "25%      3240.000000\n",
       "50%      7088.000000\n",
       "75%     59900.000000\n",
       "max    149532.000000"
      ]
     },
     "execution_count": 10,
     "metadata": {},
     "output_type": "execute_result"
    }
   ],
   "source": [
    "movies.describe()"
   ]
  },
  {
   "cell_type": "code",
   "execution_count": 11,
   "id": "f53d770a",
   "metadata": {},
   "outputs": [],
   "source": [
    "# Check number of rows and columns in each dataset"
   ]
  },
  {
   "cell_type": "code",
   "execution_count": 12,
   "id": "d58913da",
   "metadata": {},
   "outputs": [
    {
     "name": "stdout",
     "output_type": "stream",
     "text": [
      "Number of rows and columns in Movies dataset:  (10329, 3)\n"
     ]
    }
   ],
   "source": [
    "print(\"Number of rows and columns in Movies dataset: \", movies.shape)"
   ]
  },
  {
   "cell_type": "code",
   "execution_count": 13,
   "id": "314f179a",
   "metadata": {},
   "outputs": [
    {
     "name": "stdout",
     "output_type": "stream",
     "text": [
      "Number of rows and columns in Ratings dataset:  (105339, 4)\n"
     ]
    }
   ],
   "source": [
    "print(\"Number of rows and columns in Ratings dataset: \", ratings.shape)"
   ]
  },
  {
   "cell_type": "code",
   "execution_count": 14,
   "id": "0c51f4ca",
   "metadata": {},
   "outputs": [],
   "source": [
    "# Check for missing values\n"
   ]
  },
  {
   "cell_type": "code",
   "execution_count": 15,
   "id": "ca64e20c",
   "metadata": {},
   "outputs": [
    {
     "name": "stdout",
     "output_type": "stream",
     "text": [
      "Number of missing values in Movies dataset:  0\n"
     ]
    }
   ],
   "source": [
    "print(\"Number of missing values in Movies dataset: \", movies.isnull().sum().sum())\n"
   ]
  },
  {
   "cell_type": "code",
   "execution_count": 16,
   "id": "9aeaa359",
   "metadata": {},
   "outputs": [
    {
     "name": "stdout",
     "output_type": "stream",
     "text": [
      "Number of missing values in Ratings dataset:  0\n"
     ]
    }
   ],
   "source": [
    "print(\"Number of missing values in Ratings dataset: \", ratings.isnull().sum().sum())\n"
   ]
  },
  {
   "cell_type": "code",
   "execution_count": 17,
   "id": "773bd84f",
   "metadata": {},
   "outputs": [
    {
     "data": {
      "image/png": "[encoded data removed]",
      "text/plain": [
       "<Figure size 432x288 with 1 Axes>"
      ]
     },
     "metadata": {
      "needs_background": "light"
     },
     "output_type": "display_data"
    }
   ],
   "source": [
    "# Check distribution of ratings\n",
    "plt.hist(ratings['rating'])\n",
    "plt.xlabel('Rating')\n",
    "plt.ylabel('Count')\n",
    "plt.title('Distribution of Ratings')\n",
    "plt.show()\n"
   ]
  },
  {
   "cell_type": "code",
   "execution_count": 18,
   "id": "4f01c2d4",
   "metadata": {},
   "outputs": [],
   "source": [
    "# Check number of unique users and movies"
   ]
  },
  {
   "cell_type": "code",
   "execution_count": 19,
   "id": "4b6a9c1f",
   "metadata": {},
   "outputs": [
    {
     "name": "stdout",
     "output_type": "stream",
     "text": [
      "Number of unique users:  668\n"
     ]
    }
   ],
   "source": [
    "print(\"Number of unique users: \", ratings['userId'].nunique())"
   ]
  },
  {
   "cell_type": "code",
   "execution_count": 20,
   "id": "96604dd6",
   "metadata": {},
   "outputs": [
    {
     "name": "stdout",
     "output_type": "stream",
     "text": [
      "Number of unique movies:  10325\n"
     ]
    }
   ],
   "source": [
    "print(\"Number of unique movies: \", ratings['movieId'].nunique())"
   ]
  },
  {
   "cell_type": "code",
   "execution_count": 21,
   "id": "729dc0f5",
   "metadata": {},
   "outputs": [],
   "source": [
    "df = pd.concat([movies, ratings], axis=1)"
   ]
  },
  {
   "cell_type": "code",
   "execution_count": null,
   "id": "90a72ef1",
   "metadata": {},
   "outputs": [
    {
     "data": {
      "image/png": "[encoded data removed]",
      "text/plain": [
       "<Figure size 432x288 with 1 Axes>"
      ]
     },
     "metadata": {
      "needs_background": "light"
     },
     "output_type": "display_data"
    }
   ],
   "source": [
    "\n",
    "# Check average rating and total movies at genre level\n",
    "genre_ratings = df.groupby(['genres'])['rating'].agg(['mean', 'count'])\n",
    "genre_ratings['mean'].plot(kind='bar')\n",
    "plt.xlabel('Genres')\n",
    "plt.ylabel('Average Rating')\n",
    "plt.title('Average Rating by Genre')\n",
    "plt.show()\n",
    "genre_ratings['count'].plot(kind='bar')\n",
    "plt.xlabel('Genres')\n",
    "plt.ylabel('Number of Movies')\n",
    "plt.title('Number of Movies by Genre')\n",
    "plt.show()\n"
   ]
  },
  {
   "cell_type": "code",
   "execution_count": null,
   "id": "3ee1f92b",
   "metadata": {},
   "outputs": [],
   "source": [
    "\n",
    "# Check unique genres considered\n",
    "unique_genres = set()\n",
    "for genres in movies['genres']:\n",
    "    unique_genres.update(genres.split('|'))\n",
    "print(\"Unique genres considered: \", unique_genres)\n"
   ]
  },
  {
   "cell_type": "code",
   "execution_count": null,
   "id": "cb5951c6",
   "metadata": {},
   "outputs": [],
   "source": [
    "genre_stats = movies.merge(ratings, on='movieId', how='inner')\n",
    "genre_stats = genre_stats.groupby('genres').agg({'rating': [np.mean], 'movieId': [pd.Series.nunique]})\n",
    "genre_stats.columns = ['_'.join(col).strip() for col in genre_stats.columns.values]\n",
    "genre_stats = genre_stats.sort_values(by='rating_mean', ascending=False)\n",
    "print(genre_stats)\n"
   ]
  },
  {
   "cell_type": "code",
   "execution_count": null,
   "id": "26b379c0",
   "metadata": {},
   "outputs": [],
   "source": [
    "# Plot the distribution of movie ratings\n",
    "sns.displot(data=ratings, x='rating', bins=10)\n",
    "plt.title('Distribution of Movie Ratings')\n",
    "plt.xlabel('Rating')\n",
    "plt.ylabel('Count')\n",
    "plt.show()\n"
   ]
  },
  {
   "cell_type": "code",
   "execution_count": null,
   "id": "d8ffa2a5",
   "metadata": {
    "scrolled": true
   },
   "outputs": [],
   "source": [
    "# Plot the distribution of the number of ratings per movie\n",
    "import matplotlib.pyplot as plt\n",
    "\n",
    "# Get the number of ratings per movie\n",
    "ratings_per_movie = ratings.groupby('movieId')['rating'].count()\n",
    "\n",
    "# Plot the distribution\n",
    "plt.hist(ratings_per_movie, bins=50)\n",
    "plt.xlabel('Number of ratings per movie')\n",
    "plt.ylabel('Frequency')\n",
    "plt.show()\n",
    "\n",
    "#sns.displot(data=genre_ratings, x='rating_count', bins=50)\n",
    "#plt.title('Distribution of Number of Ratings per Movie')\n",
    "#plt.xlabel('Number of Ratings')\n",
    "#plt.ylabel('Count')\n",
    "#plt.show()\n",
    "\n"
   ]
  },
  {
   "cell_type": "code",
   "execution_count": null,
   "id": "a8a30cbc",
   "metadata": {},
   "outputs": [],
   "source": [
    "\n",
    "\n",
    "# Group movies by genre and calculate the average rating for each genre\n",
    "genre_ratings = movies.join(ratings.set_index('movieId'), on='movieId').groupby('genres')['rating'].mean()\n",
    "\n",
    "# Plot the distribution of the average rating per genre\n",
    "genre_ratings.plot(kind='bar', figsize=(12,8))\n",
    "plt.title('Average Rating per Genre')\n",
    "plt.xlabel('Genres')\n",
    "plt.ylabel('Average Rating')\n",
    "plt.show()\n"
   ]
  },
  {
   "cell_type": "code",
   "execution_count": null,
   "id": "bfde6676",
   "metadata": {},
   "outputs": [],
   "source": [
    "ratings.columns"
   ]
  },
  {
   "cell_type": "code",
   "execution_count": null,
   "id": "b5ee9d4d",
   "metadata": {},
   "outputs": [],
   "source": [
    "movies.columns\n"
   ]
  },
  {
   "cell_type": "code",
   "execution_count": null,
   "id": "4806e779",
   "metadata": {},
   "outputs": [],
   "source": [
    "ratings_with_genres = pd.merge(ratings, movies[['movieId', 'genres']], on='movieId')\n"
   ]
  },
  {
   "cell_type": "code",
   "execution_count": null,
   "id": "75d2c3ff",
   "metadata": {},
   "outputs": [],
   "source": [
    "ratings_with_genres.head(5)"
   ]
  },
  {
   "cell_type": "code",
   "execution_count": null,
   "id": "4a79cb4b",
   "metadata": {},
   "outputs": [],
   "source": [
    "ratings_with_genres = pd.merge(ratings, movies[['movieId', 'genres']], on='movieId')\n",
    "\n",
    "# Group the ratings dataframe by genre\n",
    "genre_ratings = ratings_with_genres.join(movies['genres'].str.get_dummies('|')).groupby('genres').agg({'rating': [np.mean], 'movieId': [pd.Series.nunique]})\n",
    "\n",
    "# Flatten the multi-level columns\n",
    "genre_ratings.columns = ['_'.join(col).strip() for col in genre_ratings.columns.values]\n",
    "\n",
    "# Sort the dataframe by average rating\n",
    "genre_ratings = genre_ratings.sort_values(by=['rating_mean'], ascending=False)\n",
    "\n",
    "# Print the results\n",
    "print(genre_ratings)\n"
   ]
  },
  {
   "cell_type": "code",
   "execution_count": null,
   "id": "27fbd901",
   "metadata": {},
   "outputs": [],
   "source": [
    "# Calculate the popularity of each movie\n",
    "popularity = ratings.groupby('movieId')['rating'].count().reset_index()\n",
    "popularity.columns = ['movieId', 'popularity']\n"
   ]
  },
  {
   "cell_type": "code",
   "execution_count": null,
   "id": "9f65b22d",
   "metadata": {},
   "outputs": [],
   "source": [
    "popularity"
   ]
  },
  {
   "cell_type": "code",
   "execution_count": null,
   "id": "f8dc62e7",
   "metadata": {},
   "outputs": [],
   "source": [
    "# Filter the movies by the popularity\n",
    "min_popularity = 10\n",
    "popular_movies = popularity[popularity['popularity'] >= min_popularity]\n",
    "ratings = ratings[ratings['movieId'].isin(popular_movies['movieId'])]\n",
    "print(popular_movies)\n",
    "#print(top_movies[['title', 'avg_rating']])\n"
   ]
  },
  {
   "cell_type": "code",
   "execution_count": null,
   "id": "f01f4f53",
   "metadata": {},
   "outputs": [],
   "source": [
    "# Filter the movies by the popularity\n",
    "min_popularity = 10\n",
    "popular_movies = popularity[popularity['popularity'] >= min_popularity]\n",
    "ratings = ratings[ratings['movieId'].isin(popular_movies['movieId'])]\n",
    "print(popular_movies)\n",
    "#print(top_movies[['title', 'avg_rating']])\n"
   ]
  },
  {
   "cell_type": "code",
   "execution_count": null,
   "id": "c88c86b0",
   "metadata": {},
   "outputs": [],
   "source": [
    "# Calculate the average rating for each movie\n",
    "avg_ratings = ratings.groupby('movieId')['rating'].mean().reset_index()\n",
    "avg_ratings.columns = ['movieId', 'avg_rating']\n",
    "print(avg_ratings)"
   ]
  },
  {
   "cell_type": "code",
   "execution_count": null,
   "id": "cf4249cf",
   "metadata": {},
   "outputs": [],
   "source": [
    "# Merge the movie titles and average ratings\n",
    "recommendations = pd.merge(movies[['movieId', 'title']], avg_ratings, on='movieId')\n",
    "print(recommendations)"
   ]
  },
  {
   "cell_type": "code",
   "execution_count": null,
   "id": "3f5bb3b5",
   "metadata": {},
   "outputs": [],
   "source": [
    "# Sort the movies by their average rating\n",
    "recommendations = recommendations.sort_values('avg_rating', ascending=False)\n",
    "\n",
    "\n",
    "print(recommendations)"
   ]
  },
  {
   "cell_type": "code",
   "execution_count": null,
   "id": "d44eddfc",
   "metadata": {},
   "outputs": [],
   "source": [
    "import pandas as pd\n",
    "\n",
    "# Define the input parameters\n",
    "genre = 'Action'\n",
    "min_rating = 3\n",
    "top_n = 5\n",
    "\n",
    "# Filter the movies by the input genre and minimum rating threshold\n",
    "movies = movies[movies['genres'].str.contains(genre)]\n",
    "ratings = ratings[ratings['movieId'].isin(movies['movieId'])]\n",
    "ratings = ratings[ratings['rating'] >= min_rating]\n",
    "\n",
    "\n",
    "\n",
    "\n",
    "\n",
    "# Select the top N movies and return their titles and average ratings\n",
    "top_movies = recommendations.head(top_n)\n",
    "print(top_movies[['title', 'avg_rating']])\n"
   ]
  },
  {
   "cell_type": "code",
   "execution_count": null,
   "id": "324e2b8e",
   "metadata": {},
   "outputs": [],
   "source": [
    "ratings.columns"
   ]
  },
  {
   "cell_type": "code",
   "execution_count": null,
   "id": "a66f6d2d",
   "metadata": {},
   "outputs": [],
   "source": [
    "movies.columns"
   ]
  },
  {
   "cell_type": "code",
   "execution_count": null,
   "id": "a210592b",
   "metadata": {},
   "outputs": [],
   "source": [
    "print(ratings['rating'])"
   ]
  },
  {
   "cell_type": "code",
   "execution_count": null,
   "id": "fe9354d2",
   "metadata": {},
   "outputs": [],
   "source": [
    "ratings.columns"
   ]
  },
  {
   "cell_type": "markdown",
   "id": "3fcbb961",
   "metadata": {},
   "source": [
    "# 1.Create a popularity-basedrecommender system at a genre level. \n",
    "The userwill input a genre (g), minimum ratingthreshold (t) for a movie,and no. ofrecommendations(N) for which it should be recommended top N movies which are most popular within that genre (g) ordered by ratings in descending order where each movie has at least (t) reviews.Example:Input:•Genre (g) : Comedy•Minimumreviewsthreshold(t):100•Num recommendations (N) : 5"
   ]
  },
  {
   "cell_type": "code",
   "execution_count": null,
   "id": "de46cd47",
   "metadata": {},
   "outputs": [],
   "source": [
    "# User inputs\n",
    "genre = input(\"Enter a genre: \")\n",
    "min_rating_threshold = float(input(\"Enter a minimum rating threshold: \"))\n",
    "num_recommendations = int(input(\"Enter the number of recommendations: \"))\n",
    "\n",
    "# Filter the movies dataset by genre and minimum rating threshold\n",
    "genre_movies = movies[movies['genres'].str.contains(genre)]\n",
    "genre_ratings = ratings[ratings['movieId'].isin(genre_movies['movieId'].tolist())]\n",
    "genre_ratings_counts = genre_ratings.groupby('movieId')['rating'].count().reset_index()\n",
    "genre_ratings_counts.rename(columns={'rating':'num_ratings'}, inplace=True)\n",
    "popular_movies = genre_ratings_counts[genre_ratings_counts['num_ratings'] >= min_rating_threshold]\n",
    "popular_movies = popular_movies.merge(movies, on='movieId', how='left')\n",
    "\n",
    "# Sort the popular movies by average rating and number of reviews\n",
    "popular_movies['average_rating'] = popular_movies['movieId'].apply(lambda x: ratings[ratings['movieId']==x]['rating'].mean())\n",
    "popular_movies = popular_movies.sort_values(['average_rating', 'num_ratings'], ascending=False)\n",
    "\n",
    "# Display top N movie recommendations\n",
    "print(\"Top {} recommendations for genre '{}':\".format(num_recommendations, genre))\n",
    "for i, row in popular_movies.head(num_recommendations).iterrows():\n",
    "    print(\"{}. {} (Avg. rating: {:.2f}, Num. reviews: {})\".format(i+1, row['title'], row['average_rating'], row['num_ratings']))\n",
    "\n",
    "    "
   ]
  },
  {
   "cell_type": "code",
   "execution_count": null,
   "id": "f1f72912",
   "metadata": {},
   "outputs": [],
   "source": []
  },
  {
   "cell_type": "code",
   "execution_count": null,
   "id": "357098fb",
   "metadata": {},
   "outputs": [],
   "source": [
    "# User inputs\n",
    "genre = input(\"Enter a genre: \")\n",
    "min_rating_threshold = float(input(\"Enter a minimum rating threshold: \"))\n",
    "num_recommendations = int(input(\"Enter the number of recommendations: \"))\n",
    "\n",
    "# Filter the movies dataset by genre and minimum rating threshold\n",
    "genre_movies = movies[movies['genres'].str.contains(genre)]\n",
    "genre_ratings = ratings[ratings['movieId'].isin(genre_movies['movieId'].tolist())]\n",
    "genre_ratings_counts = genre_ratings.groupby('movieId')['rating'].count().reset_index()\n",
    "genre_ratings_counts.rename(columns={'rating':'num_ratings'}, inplace=True)\n",
    "popular_movies = genre_ratings_counts[genre_ratings_counts['num_ratings'] >= min_rating_threshold]\n",
    "popular_movies = popular_movies.merge(movies, on='movieId', how='left')\n",
    "\n",
    "# Sort the popular movies by average rating and number of reviews\n",
    "popular_movies['average_rating'] = popular_movies['movieId'].apply(lambda x: ratings[ratings['movieId']==x]['rating'].mean())\n",
    "popular_movies = popular_movies.sort_values(['average_rating', 'num_ratings'], ascending=False)\n",
    "\n",
    "# Display top N movie recommendations\n",
    "print(\"Top {} recommendations for genre '{}':\".format(num_recommendations, genre))\n",
    "for i, row in popular_movies.head(num_recommendations).iterrows():\n",
    "    print(\"{}. {} (Avg. rating: {:.2f}, Num. reviews: {})\".format(i+1, row['title'], row['average_rating'], row['num_ratings']))\n"
   ]
  },
  {
   "cell_type": "markdown",
   "id": "96b203a5",
   "metadata": {},
   "source": [
    "#  .Create a content-based recommender system thatrecommends top N movies based on similar movie(m) genres.Example:Input:•Movie Title (t): Toy Story•Num recommendations (N): 5"
   ]
  },
  {
   "cell_type": "code",
   "execution_count": null,
   "id": "77eb6617",
   "metadata": {},
   "outputs": [],
   "source": [
    "# Step 1: Calculate the similarity scores between the target user and all other users based on their ratings\n",
    "\n",
    "# create a pivot table with users as rows, movies as columns and ratings as values\n",
    "pivot_table = ratings.pivot_table(index='userId', columns='movieId', values='rating')\n",
    "\n",
    "# calculate the cosine similarity between the target user and all other users\n",
    "from sklearn.metrics.pairwise import cosine_similarity\n",
    "user_similarities = cosine_similarity(pivot_table.fillna(0))\n",
    "\n",
    "# Step 2: Select the top K most similar users to the target user\n",
    "k = 100  # threshold for similar users\n",
    "target_user = 1  # user for whom recommendations are being made\n",
    "\n",
    "# get the indices of the top k similar users to the target user\n",
    "similar_users_indices = user_similarities[target_user-1].argsort()[-k-1:-1][::-1]\n",
    "\n",
    "# Step 3: Identify the movies that the target user has not yet seen but have been seen and rated by the top K similar users\n",
    "# get the movies that the target user has not yet seen\n",
    "movies_not_seen = pivot_table.loc[target_user][pivot_table.loc[target_user].isnull()].index\n",
    "\n",
    "# create a dataframe containing the ratings for these movies by the top k similar users\n",
    "similar_users_ratings = pivot_table.loc[similar_users_indices, movies_not_seen]\n",
    "\n",
    "# Step 4: Calculate the predicted ratings for the target user for these movies\n",
    "# calculate the weighted average of the ratings for each movie by the top k similar users\n",
    "predicted_ratings = similar_users_ratings.apply(lambda x: np.dot(x.fillna(0), user_similarities[target_user-1][similar_users_indices]) / user_similarities[target_user-1][similar_users_indices].sum(), axis=0)\n",
    "\n",
    "# Step 5: Recommend the top N movies based on the predicted ratings\n",
    "n = 5  # number of recommendations to make\n",
    "top_n_movies = predicted_ratings.sort_values(ascending=False)[:n].index.tolist()\n",
    "\n",
    "# print the top N recommended movies\n",
    "print(\"Top {} recommended movies for user {}:\".format(n, target_user))\n",
    "for movie_id in top_n_movies:\n",
    "    movie_title = movies[movies['movieId'] == movie_id]['title'].values[0]\n",
    "    print(\"- \" + movie_title)\n"
   ]
  },
  {
   "cell_type": "code",
   "execution_count": null,
   "id": "77e40e37",
   "metadata": {},
   "outputs": [],
   "source": [
    "import pandas as pd\n",
    "from sklearn.feature_extraction.text import TfidfVectorizer\n",
    "from sklearn.metrics.pairwise import cosine_similarity\n",
    "\n",
    "# Load movies dataset\n",
    "#movies = pd.read_csv('movies.csv')\n",
    "\n",
    "# Create a TfidfVectorizer object\n",
    "tfidf = TfidfVectorizer(stop_words='english')\n",
    "\n",
    "# Replace NaN values in 'genres' column with empty string\n",
    "movies['genres'] = movies['genres'].fillna('')\n",
    "\n",
    "# Construct the required TF-IDF matrix by fitting and transforming the data\n",
    "tfidf_matrix = tfidf.fit_transform(movies['genres'])\n",
    "\n",
    "# Compute the cosine similarity matrix\n",
    "cosine_sim = cosine_similarity(tfidf_matrix, tfidf_matrix)\n",
    "\n",
    "# Define a function to get movie recommendations based on movie title\n",
    "def get_recommendations(title, N):\n",
    "    # Get the index of the movie that matches the title\n",
    "    indices = pd.Series(movies.index, index=movies['title']).drop_duplicates()\n",
    "    idx = indices[title]\n",
    "\n",
    "    # Get the pairwsie similarity scores of all movies with the given movie\n",
    "    sim_scores = list(enumerate(cosine_sim[idx]))\n",
    "\n",
    "    # Sort the movies based on the similarity scores\n",
    "    sim_scores = sorted(sim_scores, key=lambda x: x[1], reverse=True)\n",
    "\n",
    "    # Get the scores of the N most similar movies\n",
    "    sim_scores = sim_scores[1:N+1]\n",
    "\n",
    "    # Get the movie indices\n",
    "    movie_indices = [i[0] for i in sim_scores]\n",
    "\n",
    "    # Return the top N most similar movies\n",
    "    return movies['title'].iloc[movie_indices]\n",
    "\n",
    "# Test the function\n",
    "get_recommendations('Toy Story (1995)', 5)\n"
   ]
  },
  {
   "cell_type": "code",
   "execution_count": null,
   "id": "1a71b031",
   "metadata": {},
   "outputs": [],
   "source": [
    "\n",
    "\n",
    "# Merge data\n",
    "movie_ratings = pd.merge(movies, ratings, on='movieId')\n",
    "\n",
    "# Pivot table to get matrix of users and their movie ratings\n",
    "user_movie_ratings = pd.pivot_table(movie_ratings, index='userId', columns='title', values='rating')\n",
    "\n",
    "# Function to get top N recommended movies for target user\n",
    "def get_top_n_recommended_movies(target_user_id, N, k):\n",
    "    # Get target user's movie ratings\n",
    "    target_user_ratings = user_movie_ratings.loc[target_user_id].dropna()\n",
    "    \n",
    "    # Find similar users based on cosine similarity\n",
    "    cosine_similarities = user_movie_ratings.corrwith(target_user_ratings)\n",
    "    similar_users = cosine_similarities.dropna().sort_values(ascending=False)[:k]\n",
    "    \n",
    "    # Get movie ratings of similar users\n",
    "    similar_users_ratings = user_movie_ratings.loc[similar_users.index]\n",
    "    \n",
    "    # Calculate weighted average of movie ratings of similar users\n",
    "    similar_users_weighted_ratings = (similar_users_ratings.T * similar_users).T.sum().div(similar_users.sum())\n",
    "    \n",
    "    # Filter out movies that the target user has already rated\n",
    "    recommended_movies = similar_users_weighted_ratings.drop(target_user_ratings.index).sort_values(ascending=False)[:N]\n",
    "    \n",
    "    # Get movie titles for recommended movies\n",
    "    recommended_movie_titles = pd.DataFrame(recommended_movies).merge(movies, left_index=True, right_on='title')['title']\n",
    "    \n",
    "    return recommended_movie_titles\n",
    "\n",
    "# Example \n",
    "target_user_id = int(input('Enter user ID: '))\n",
    "N = int(input('Enter number of recommendations: '))\n",
    "k = int(input('Enter threshold for similar users: '))\n",
    "\n",
    "recommended_movies = get_top_n_recommended_movies(target_user_id, N, k)\n",
    "\n",
    "print('Top', N, 'recommended movies for user', target_user_id, ':')\n",
    "for i, movie_title in enumerate(recommended_movies):\n",
    "    print(i+1, movie_title)\n"
   ]
  },
  {
   "cell_type": "code",
   "execution_count": null,
   "id": "f961083d",
   "metadata": {},
   "outputs": [],
   "source": [
    "import pandas as pd\n",
    "from sklearn.feature_extraction.text import TfidfVectorizer\n",
    "from sklearn.metrics.pairwise import cosine_similarity\n",
    "import ipywidgets as widgets\n",
    "\n",
    "# Load the movie data\n",
    "movies = pd.read_csv('C:/Users/Kalpesh__K__/Datasets/movies.csv')\n",
    "\n",
    "# Compute the TF-IDF matrix for movie genres\n",
    "tfidf = TfidfVectorizer(stop_words='english')\n",
    "tfidf_matrix = tfidf.fit_transform(movies['genres'])\n",
    "\n",
    "# Compute the cosine similarity matrix\n",
    "cosine_sim = cosine_similarity(tfidf_matrix, tfidf_matrix)\n",
    "\n",
    "# Define the recommendation function\n",
    "def get_recommendations(title, n):\n",
    "    # Get the index of the movie\n",
    "    idx = movies[movies['title'] == title].index[0]\n",
    "    \n",
    "    # Get the pairwise similarity scores\n",
    "    sim_scores = list(enumerate(cosine_sim[idx]))\n",
    "    \n",
    "    # Sort the movies based on the similarity scores\n",
    "    sim_scores = sorted(sim_scores, key=lambda x: x[1], reverse=True)\n",
    "    \n",
    "    # Get the top n movies\n",
    "    sim_scores = sim_scores[1:n+1]\n",
    "    \n",
    "    # Get the movie indices\n",
    "    movie_indices = [i[0] for i in sim_scores]\n",
    "    \n",
    "    # Return the recommended movies\n",
    "    return movies.iloc[movie_indices]['title'].tolist()\n",
    "\n",
    "# Define the GUI widgets\n",
    "title_widget = widgets.Text(\n",
    "    value='',\n",
    "    placeholder='Enter a movie title',\n",
    "    description='Movie Title:',\n",
    "    disabled=False\n",
    ")\n",
    "\n",
    "n_widget = widgets.IntSlider(\n",
    "    value=5,\n",
    "    min=1,\n",
    "    max=20,\n",
    "    step=1,\n",
    "    description='Number of Recommendations:',\n",
    "    disabled=False,\n",
    "    continuous_update=False,\n",
    "    orientation='horizontal',\n",
    "    readout=True,\n",
    "    readout_format='d'\n",
    ")\n",
    "\n",
    "output_widget = widgets.Output()\n",
    "\n",
    "# Define the event handlers\n",
    "def on_submit_button_clicked(b):\n",
    "    with output_widget:\n",
    "        output_widget.clear_output()\n",
    "        title = title_widget.value.strip()\n",
    "        n = n_widget.value\n",
    "        recommendations = get_recommendations(title, n)\n",
    "        print(f\"Top {n} Recommendations for '{title}':\")\n",
    "        for i, movie in enumerate(recommendations):\n",
    "            print(f\"{i+1}. {movie}\")\n",
    "\n",
    "# Define the GUI layout\n",
    "form_items = [\n",
    "    title_widget,\n",
    "    n_widget\n",
    "]\n",
    "\n",
    "form = widgets.Box(form_items, layout=widgets.Layout(\n",
    "    display='flex',\n",
    "    flex_flow='column',\n",
    "    align_items='stretch',\n",
    "    width='50%'\n",
    "))\n",
    "\n",
    "submit_button = widgets.Button(description='Get Recommendations')\n",
    "submit_button.on_click(on_submit_button_clicked)\n",
    "\n",
    "display(form, submit_button, output_widget)\n"
   ]
  },
  {
   "cell_type": "markdown",
   "id": "d4fb58af",
   "metadata": {},
   "source": [
    "#                                              Thank You"
   ]
  },
  {
   "cell_type": "code",
   "execution_count": null,
   "id": "b305c49c",
   "metadata": {},
   "outputs": [],
   "source": []
  },
  {
   "cell_type": "code",
   "execution_count": null,
   "id": "2df40c7b",
   "metadata": {},
   "outputs": [],
   "source": []
  },
  {
   "cell_type": "code",
   "execution_count": null,
   "id": "f9f2d463",
   "metadata": {},
   "outputs": [],
   "source": []
  },
  {
   "cell_type": "code",
   "execution_count": null,
   "id": "f4c18773",
   "metadata": {},
   "outputs": [],
   "source": []
  },
  {
   "cell_type": "code",
   "execution_count": null,
   "id": "e3293c29",
   "metadata": {},
   "outputs": [],
   "source": []
  },
  {
   "cell_type": "code",
   "execution_count": null,
   "id": "5da4d27e",
   "metadata": {},
   "outputs": [],
   "source": []
  },
  {
   "cell_type": "code",
   "execution_count": null,
   "id": "aead7be1",
   "metadata": {},
   "outputs": [],
   "source": []
  },
  {
   "cell_type": "code",
   "execution_count": null,
   "id": "81867e03",
   "metadata": {},
   "outputs": [],
   "source": []
  },
  {
   "cell_type": "code",
   "execution_count": null,
   "id": "730b6fd3",
   "metadata": {},
   "outputs": [],
   "source": []
  },
  {
   "cell_type": "code",
   "execution_count": null,
   "id": "e57e931e",
   "metadata": {},
   "outputs": [],
   "source": []
  },
  {
   "cell_type": "code",
   "execution_count": null,
   "id": "c513c025",
   "metadata": {},
   "outputs": [],
   "source": []
  },
  {
   "cell_type": "code",
   "execution_count": null,
   "id": "16169045",
   "metadata": {},
   "outputs": [],
   "source": []
  },
  {
   "cell_type": "code",
   "execution_count": null,
   "id": "9d8fedcc",
   "metadata": {},
   "outputs": [],
   "source": []
  },
  {
   "cell_type": "code",
   "execution_count": null,
   "id": "d0664eab",
   "metadata": {},
   "outputs": [],
   "source": []
  },
  {
   "cell_type": "code",
   "execution_count": null,
   "id": "7d1c4205",
   "metadata": {},
   "outputs": [],
   "source": []
  },
  {
   "cell_type": "code",
   "execution_count": null,
   "id": "f7c96ff1",
   "metadata": {},
   "outputs": [],
   "source": []
  }
 ],
 "metadata": {
  "kernelspec": {
   "display_name": "Python 3 (ipykernel)",
   "language": "python",
   "name": "python3"
  },
  "language_info": {
   "codemirror_mode": {
    "name": "ipython",
    "version": 3
   },
   "file_extension": ".py",
   "mimetype": "text/x-python",
   "name": "python",
   "nbconvert_exporter": "python",
   "pygments_lexer": "ipython3",
   "version": "3.9.12"
  }
 },
 "nbformat": 4,
 "nbformat_minor": 5
}
